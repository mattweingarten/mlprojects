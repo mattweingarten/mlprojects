{
 "cells": [
  {
   "cell_type": "markdown",
   "metadata": {},
   "source": [
    "# Task 3: antiboy protein classifcation\n",
    "\n",
    "Goal: assign each 4 letter mutation sequence to a 0 or 1 activation\n",
    "\n",
    "example:\n",
    "\n",
    "    DKWL, 0\n",
    "    LCLA, 1\n",
    "    \n",
    "    \n",
    "The same letter can appear multiple times\n",
    "The ordering matters\n",
    "n = 21 (amount of amino acids)\n",
    "\n",
    "    - How do we abstract the letters that describe the sequence? 2 options:\n",
    "        - every letter gets assigned a number, each sequence is a 1D vector with 4 numbers\n",
    "        - or every data point is 21 dimeonsonal vector amount of each amino acid present in mutation (no order)\n",
    "        \n",
    "Classes are very imbalanced (few positive cases), therefore we need to up- or downsample, as class weights are not implemented in MLP"
   ]
  },
  {
   "cell_type": "code",
   "execution_count": 33,
   "metadata": {},
   "outputs": [],
   "source": [
    "import numpy as np\n",
    "import time\n",
    "from sklearn.neural_network import MLPClassifier\n",
    "from sklearn.model_selection import GridSearchCV\n",
    "# from sklearn.model_selection import cross_val_score\n",
    "from sklearn.metrics import f1_score\n"
   ]
  },
  {
   "cell_type": "markdown",
   "metadata": {},
   "source": [
    "### Get data \n",
    "#### turns data into an ndarray as containing the sequence as np array of amino acids acording to their ASCII bits (DKWL -> [68,675,87,76]) (this might have to be changed to a standardized way)\n"
   ]
  },
  {
   "cell_type": "code",
   "execution_count": 36,
   "metadata": {},
   "outputs": [],
   "source": [
    "def amino_conv(a):\n",
    "    if(a == 65):\n",
    "        return 1\n",
    "    elif(a==86):\n",
    "        return 2\n",
    "    elif(a==73):\n",
    "        return 3\n",
    "    elif(a==76):\n",
    "        return 4\n",
    "    elif(a==77):\n",
    "        return 5\n",
    "    elif(a==70):\n",
    "        return 6\n",
    "    elif(a==89):\n",
    "        return 7\n",
    "    elif(a==87):\n",
    "        return 8\n",
    "    elif(a==82):\n",
    "        return 9\n",
    "    elif(a==72):\n",
    "        return 10\n",
    "    elif(a==75):\n",
    "        return 11\n",
    "    elif(a==68):\n",
    "        return 12\n",
    "    elif(a==69):\n",
    "        return 13\n",
    "    elif(a==83):\n",
    "        return 14\n",
    "    elif(a==84):\n",
    "        return 15\n",
    "    elif(a==78):\n",
    "        return 16\n",
    "    elif(a==81):\n",
    "        return 17\n",
    "    elif(a==67):\n",
    "        return 18\n",
    "    elif(a==85):\n",
    "        return 19\n",
    "    elif(a==71):\n",
    "        return 20\n",
    "    elif(a==80):\n",
    "        return 21\n",
    "    else:\n",
    "        print (\"--------------------------\\nERROR IN DATA, UNDEFINED AMINO ACID for %d!\\n--------------------------\" %a)\n",
    "        return -1\n",
    "        "
   ]
  },
  {
   "cell_type": "code",
   "execution_count": 39,
   "metadata": {},
   "outputs": [],
   "source": [
    "def get_data():\n",
    "    start_time = time.time()\n",
    "    \n",
    "    \n",
    "    seq_conv = lambda seq: np.asarray(list(map(amino_conv,list(seq))))\n",
    "    data = np.genfromtxt(\"./data/train.csv\",delimiter=\",\",skip_header=1,\n",
    "                         dtype=[('seq','object'),('active','int')],converters={0: seq_conv})\n",
    "    m = data.size\n",
    "    sequences = np.zeros((m,4))\n",
    "    for i in range(m):\n",
    "        sequences[i] = data[i][0]\n",
    "        \n",
    "        \n",
    "    elapsed_time = time.time() - start_time\n",
    "    print (\"-----------------------------------------------\\n Setup time is: %s seconds\\n----------------------------------------------- % elapsed_time)\n",
    "    return sequences, data['active']\n",
    "    "
   ]
  },
  {
   "cell_type": "code",
   "execution_count": null,
   "metadata": {},
   "outputs": [],
   "source": [
    "def upsample(sequences,activations):\n",
    "    \n",
    "    ratio = np.sum(activations)\n",
    "    size = activations.size\n",
    "    print(ratio)\n",
    "    print(size)\n"
   ]
  },
  {
   "cell_type": "markdown",
   "metadata": {},
   "source": [
    "### For training model first intuition points to trainin neural network\n",
    "    -Multi layer perceptron\n",
    "    \n",
    "#### For validation we use gridearch crossvalidation to tune hyperparameters\n"
   ]
  },
  {
   "cell_type": "code",
   "execution_count": 60,
   "metadata": {},
   "outputs": [],
   "source": [
    "def mlp_model():\n",
    "    return MLPClassifier(solver='sgd',learning_rate='adaptive',activation='idendity')"
   ]
  },
  {
   "cell_type": "code",
   "execution_count": 61,
   "metadata": {},
   "outputs": [],
   "source": [
    "def model():\n",
    "        \n",
    "    parameters =  {'activation':('identity', 'logistic', 'tanh', 'relu'),\n",
    "                    'alpha':[0.00001],\n",
    "                    'hidden_layer_sizes':[(200,200,200)]\n",
    "                  } \n",
    "    return GridSearchCV(mlp_model(),parameters,scoring='f1', cv=3)"
   ]
  },
  {
   "cell_type": "code",
   "execution_count": 62,
   "metadata": {},
   "outputs": [],
   "source": [
    "def validate(sequences, activations):\n",
    "    start_time = time.time()\n",
    "      \n",
    "    res = model().fit(sequences,activations)\n",
    "    \n",
    "    elapsed_time = time.time() - start_time\n",
    "    print (\"-----------------------------------------------\\n Training time is: %s seconds\\n-----------------------------------------------\" % elapsed_time)\n",
    "    return res \n"
   ]
  },
  {
   "cell_type": "markdown",
   "metadata": {},
   "source": [
    "### Driver code"
   ]
  },
  {
   "cell_type": "code",
   "execution_count": 63,
   "metadata": {},
   "outputs": [],
   "source": [
    "def main():\n",
    "    sequences,activations = get_data()\n",
    "    \n",
    "    upsample(sequences,activations)\n",
    "    \n",
    "    print(validate(sequences,activations))"
   ]
  },
  {
   "cell_type": "code",
   "execution_count": null,
   "metadata": {
    "scrolled": true
   },
   "outputs": [
    {
     "name": "stdout",
     "output_type": "stream",
     "text": [
      "------------------\n",
      " Setup time is: 0.9256718158721924 seconds\n",
      "------------------\n"
     ]
    },
    {
     "name": "stderr",
     "output_type": "stream",
     "text": [
      "C:\\Users\\Matthew\\Anaconda3\\lib\\site-packages\\sklearn\\metrics\\classification.py:1437: UndefinedMetricWarning: F-score is ill-defined and being set to 0.0 due to no predicted samples.\n",
      "  'precision', 'predicted', average, warn_for)\n",
      "C:\\Users\\Matthew\\Anaconda3\\lib\\site-packages\\sklearn\\metrics\\classification.py:1437: UndefinedMetricWarning: F-score is ill-defined and being set to 0.0 due to no predicted samples.\n",
      "  'precision', 'predicted', average, warn_for)\n",
      "C:\\Users\\Matthew\\Anaconda3\\lib\\site-packages\\sklearn\\metrics\\classification.py:1437: UndefinedMetricWarning: F-score is ill-defined and being set to 0.0 due to no predicted samples.\n",
      "  'precision', 'predicted', average, warn_for)\n",
      "C:\\Users\\Matthew\\Anaconda3\\lib\\site-packages\\sklearn\\metrics\\classification.py:1437: UndefinedMetricWarning: F-score is ill-defined and being set to 0.0 due to no predicted samples.\n",
      "  'precision', 'predicted', average, warn_for)\n",
      "C:\\Users\\Matthew\\Anaconda3\\lib\\site-packages\\sklearn\\metrics\\classification.py:1437: UndefinedMetricWarning: F-score is ill-defined and being set to 0.0 due to no predicted samples.\n",
      "  'precision', 'predicted', average, warn_for)\n",
      "C:\\Users\\Matthew\\Anaconda3\\lib\\site-packages\\sklearn\\metrics\\classification.py:1437: UndefinedMetricWarning: F-score is ill-defined and being set to 0.0 due to no predicted samples.\n",
      "  'precision', 'predicted', average, warn_for)\n",
      "C:\\Users\\Matthew\\Anaconda3\\lib\\site-packages\\sklearn\\neural_network\\multilayer_perceptron.py:566: ConvergenceWarning: Stochastic Optimizer: Maximum iterations (200) reached and the optimization hasn't converged yet.\n",
      "  % self.max_iter, ConvergenceWarning)\n",
      "C:\\Users\\Matthew\\Anaconda3\\lib\\site-packages\\sklearn\\neural_network\\multilayer_perceptron.py:566: ConvergenceWarning: Stochastic Optimizer: Maximum iterations (200) reached and the optimization hasn't converged yet.\n",
      "  % self.max_iter, ConvergenceWarning)\n",
      "C:\\Users\\Matthew\\Anaconda3\\lib\\site-packages\\sklearn\\neural_network\\multilayer_perceptron.py:566: ConvergenceWarning: Stochastic Optimizer: Maximum iterations (200) reached and the optimization hasn't converged yet.\n",
      "  % self.max_iter, ConvergenceWarning)\n",
      "C:\\Users\\Matthew\\Anaconda3\\lib\\site-packages\\sklearn\\neural_network\\multilayer_perceptron.py:566: ConvergenceWarning: Stochastic Optimizer: Maximum iterations (200) reached and the optimization hasn't converged yet.\n",
      "  % self.max_iter, ConvergenceWarning)\n",
      "C:\\Users\\Matthew\\Anaconda3\\lib\\site-packages\\sklearn\\neural_network\\multilayer_perceptron.py:566: ConvergenceWarning: Stochastic Optimizer: Maximum iterations (200) reached and the optimization hasn't converged yet.\n",
      "  % self.max_iter, ConvergenceWarning)\n"
     ]
    }
   ],
   "source": [
    "main()"
   ]
  },
  {
   "cell_type": "code",
   "execution_count": null,
   "metadata": {},
   "outputs": [],
   "source": []
  }
 ],
 "metadata": {
  "kernelspec": {
   "display_name": "Python 3",
   "language": "python",
   "name": "python3"
  },
  "language_info": {
   "codemirror_mode": {
    "name": "ipython",
    "version": 3
   },
   "file_extension": ".py",
   "mimetype": "text/x-python",
   "name": "python",
   "nbconvert_exporter": "python",
   "pygments_lexer": "ipython3",
   "version": "3.7.4"
  }
 },
 "nbformat": 4,
 "nbformat_minor": 2
}
