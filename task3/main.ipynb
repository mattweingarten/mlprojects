{
 "cells": [
  {
   "cell_type": "markdown",
   "metadata": {},
   "source": [
    "# Task 3: antiboy protein classifcation\n",
    "\n",
    "Goal: assign each 4 letter mutation sequence to a 0 or 1 activation\n",
    "\n",
    "example:\n",
    "\n",
    "    DKWL, 0\n",
    "    LCLA, 1\n",
    "    \n",
    "    \n",
    "The same letter can appear multiple times\n",
    "The ordering matters\n",
    "n = 21 (amount of amino acids)\n",
    "\n",
    "    - How do we abstract the letters that describe the sequence? 2 options:\n",
    "        - every letter gets assigned a number, each sequence is a 1D vector with 4 numbers\n",
    "        - or every data point is 21 dimeonsonal vector amount of each amino acid present in mutation (no order)\n",
    "        \n",
    "Classes are very imbalanced (few positive cases), therefore we need to up- or downsample, as class weights are not implemented in MLP"
   ]
  },
  {
   "cell_type": "code",
   "execution_count": 141,
   "metadata": {},
   "outputs": [],
   "source": [
    "import numpy as np\n",
    "import time\n",
    "import random\n",
    "from sklearn.neural_network import MLPClassifier\n",
    "from sklearn.model_selection import GridSearchCV\n",
    "from sklearn.model_selection import cross_val_score\n",
    "from sklearn.metrics import f1_score\n",
    "from sklearn.utils.class_weight import compute_class_weight\n",
    "from sklearn.preprocessing import normalize\n",
    "\n",
    "seq_conv = lambda seq: np.asarray(list(map(amino_conv,list(seq))))"
   ]
  },
  {
   "cell_type": "markdown",
   "metadata": {},
   "source": [
    "### Get data \n",
    "#### turns data into an ndarray as containing the sequence as np array of amino acids acording to their number from 1 - 21 and then normalized (DKWL -> [0.4,0.14,0.5,0.1]) (this might have to be changed to a standardized way)\n"
   ]
  },
  {
   "cell_type": "code",
   "execution_count": 142,
   "metadata": {},
   "outputs": [],
   "source": [
    "def amino_conv(a):\n",
    "    if(a == 65):\n",
    "        return 1\n",
    "    elif(a==86):\n",
    "        return 2\n",
    "    elif(a==73):\n",
    "        return 3\n",
    "    elif(a==76):\n",
    "        return 4\n",
    "    elif(a==77):\n",
    "        return 5\n",
    "    elif(a==70):\n",
    "        return 6\n",
    "    elif(a==89):\n",
    "        return 7\n",
    "    elif(a==87):\n",
    "        return 8\n",
    "    elif(a==82):\n",
    "        return 9\n",
    "    elif(a==72):\n",
    "        return 10\n",
    "    elif(a==75):\n",
    "        return 11\n",
    "    elif(a==68):\n",
    "        return 12\n",
    "    elif(a==69):\n",
    "        return 13\n",
    "    elif(a==83):\n",
    "        return 14\n",
    "    elif(a==84):\n",
    "        return 15\n",
    "    elif(a==78):\n",
    "        return 16\n",
    "    elif(a==81):\n",
    "        return 17\n",
    "    elif(a==67):\n",
    "        return 18\n",
    "    elif(a==85):\n",
    "        return 19\n",
    "    elif(a==71):\n",
    "        return 20\n",
    "    elif(a==80):\n",
    "        return 21\n",
    "    else:\n",
    "        print (\"--------------------------\\nERROR IN DATA, UNDEFINED AMINO ACID for %d!\\n--------------------------\" %a)\n",
    "        return -1\n",
    "        "
   ]
  },
  {
   "cell_type": "code",
   "execution_count": 143,
   "metadata": {},
   "outputs": [],
   "source": [
    "def balance_data(sequences,activations,dup):\n",
    "    n = activations.size\n",
    "    k = np.sum(activations)\n",
    "    ones_act = np.zeros(k)\n",
    "    ones_sequ = np.zeros((k,4))\n",
    "    count = 0\n",
    "    for i in range(n):\n",
    "        if (activations[i] == 1):\n",
    "            ones_act[count] = activations[i]\n",
    "            ones_sequ[count] = sequences[i]\n",
    "            count = count + 1\n",
    "    res_act = np.zeros(n + k * dup)\n",
    "    res_sequ = np.zeros((n + k * dup,4))\n",
    "    res_act[0:n] = activations\n",
    "    res_sequ[0:n] = sequences\n",
    "    for i in range(dup):\n",
    "        res_act[n + i * k: n + (i+1) *k] = ones_act\n",
    "        res_sequ[n + i * k: n + (i+1) *k] = ones_sequ\n",
    "    return res_sequ, res_act"
   ]
  },
  {
   "cell_type": "code",
   "execution_count": 148,
   "metadata": {},
   "outputs": [],
   "source": [
    "def get_predict_data():\n",
    "    \n",
    "    data = np.genfromtxt(\"./data/test.csv\",delimiter=\",\",skip_header=1,\n",
    "                          dtype=[('seq','object')],converters={0: seq_conv})\n",
    "    return data"
   ]
  },
  {
   "cell_type": "code",
   "execution_count": 149,
   "metadata": {},
   "outputs": [],
   "source": [
    "def get_data(dup):\n",
    "    start_time = time.time()\n",
    "    \n",
    "    \n",
    "    data = np.genfromtxt(\"./data/train.csv\",delimiter=\",\",skip_header=1,\n",
    "                         dtype=[('seq','object'),('active','int')],converters={0: seq_conv})\n",
    "    m = data.size\n",
    "    sequences = np.zeros((m,4))\n",
    "    for i in range(m):\n",
    "        sequences[i] = data[i][0]\n",
    "        \n",
    "    elapsed_time = time.time() - start_time\n",
    "    sequences, activations = balance_data(sequences,data['active'],dup)\n",
    "    print (\"-----------------------------------------------\\n Setup time is: %d seconds\\n-----------------------------------------------\" % elapsed_time)\n",
    "    return sequences, activations\n",
    "    "
   ]
  },
  {
   "cell_type": "code",
   "execution_count": 150,
   "metadata": {},
   "outputs": [],
   "source": [
    "#return percentage of positive actvations(class 1)\n",
    "def ratio(activations):\n",
    "    return np.sum(activations) / activations.size\n"
   ]
  },
  {
   "cell_type": "markdown",
   "metadata": {},
   "source": [
    "### For training model first intuition points to trainin neural network\n",
    "    -Multi layer perceptron\n",
    "    \n",
    "#### For validation we use gridearch crossvalidation to tune hyperparameters\n"
   ]
  },
  {
   "cell_type": "code",
   "execution_count": 151,
   "metadata": {},
   "outputs": [],
   "source": [
    "def mlp_model():\n",
    "    return MLPClassifier(solver='sgd',learning_rate='adaptive',alpha=1e-5, activation='relu')"
   ]
  },
  {
   "cell_type": "code",
   "execution_count": 219,
   "metadata": {},
   "outputs": [],
   "source": [
    "def cross_model():\n",
    "    return MLPClassifier(solver='sgd',learning_rate='adaptive',activation='relu',hidden_layer_sizes=(50,20), alpha=0.001)"
   ]
  },
  {
   "cell_type": "code",
   "execution_count": 220,
   "metadata": {},
   "outputs": [],
   "source": [
    "def grid_model():\n",
    "        \n",
    "    parameters =  {\n",
    "                    'hidden_layer_sizes':[(200,100,50),(100,50,20,10,10)]\n",
    "                  } \n",
    "    GridSearchCV(mlp_model(),parameters,scoring='f1', cv=3)\n",
    "    return "
   ]
  },
  {
   "cell_type": "code",
   "execution_count": 221,
   "metadata": {},
   "outputs": [],
   "source": [
    "def cross_val(sequences, activations):\n",
    "    start_time = time.time()\n",
    "      \n",
    "    res = cross_val_score(cross_model(), sequences,activations,cv=3,scoring='f1')\n",
    "    \n",
    "    elapsed_time = time.time() - start_time\n",
    "    print (\"-----------------------------------------------\\n Training time is: %s seconds\\n-----------------------------------------------\" % elapsed_time)\n",
    "    return res"
   ]
  },
  {
   "cell_type": "code",
   "execution_count": 222,
   "metadata": {},
   "outputs": [],
   "source": [
    "def grid_val(sequences, activations):\n",
    "    start_time = time.time()\n",
    "      \n",
    "    res = cross_model().fit(sequences,activations)\n",
    "    \n",
    "    elapsed_time = time.time() - start_time\n",
    "    print (\"-----------------------------------------------\\n Training time is: %s seconds\\n-----------------------------------------------\" % elapsed_time)\n",
    "    return res\n"
   ]
  },
  {
   "cell_type": "code",
   "execution_count": 223,
   "metadata": {},
   "outputs": [],
   "source": [
    "def train(model,sequences,activations):\n",
    "    return model.fit(sequences,activations)"
   ]
  },
  {
   "cell_type": "code",
   "execution_count": 224,
   "metadata": {},
   "outputs": [],
   "source": [
    "def make_predictions(model, sequences):\n",
    "    res = model.predict(sequences)\n",
    "    np.savetxt(\"prediction.csv\",res, delimiter=\",\",fmt='%i',comments='')"
   ]
  },
  {
   "cell_type": "markdown",
   "metadata": {},
   "source": [
    "### Driver code"
   ]
  },
  {
   "cell_type": "code",
   "execution_count": 225,
   "metadata": {},
   "outputs": [],
   "source": [
    "def main():\n",
    "    sequences,activations = get_data(24)#duplicates ones 24 times such that classes are balanced\n",
    "    pred_sequences = get_predict_data()\n",
    "    print(ratio(activations))\n",
    "    clf = train(cross_model(),sequences,activations)\n",
    "#     make_predictions(clf,pred_sequences)\n",
    "    print(cross_val(sequences,activations))\n"
   ]
  },
  {
   "cell_type": "code",
   "execution_count": 226,
   "metadata": {
    "scrolled": false
   },
   "outputs": [
    {
     "name": "stdout",
     "output_type": "stream",
     "text": [
      "-----------------------------------------------\n",
      " Setup time is: 1 seconds\n",
      "-----------------------------------------------\n",
      "0.49422369458313\n"
     ]
    },
    {
     "name": "stderr",
     "output_type": "stream",
     "text": [
      "C:\\Users\\Matthew\\Anaconda3\\lib\\site-packages\\sklearn\\neural_network\\multilayer_perceptron.py:566: ConvergenceWarning: Stochastic Optimizer: Maximum iterations (200) reached and the optimization hasn't converged yet.\n",
      "  % self.max_iter, ConvergenceWarning)\n",
      "C:\\Users\\Matthew\\Anaconda3\\lib\\site-packages\\sklearn\\neural_network\\multilayer_perceptron.py:566: ConvergenceWarning: Stochastic Optimizer: Maximum iterations (200) reached and the optimization hasn't converged yet.\n",
      "  % self.max_iter, ConvergenceWarning)\n",
      "C:\\Users\\Matthew\\Anaconda3\\lib\\site-packages\\sklearn\\neural_network\\multilayer_perceptron.py:566: ConvergenceWarning: Stochastic Optimizer: Maximum iterations (200) reached and the optimization hasn't converged yet.\n",
      "  % self.max_iter, ConvergenceWarning)\n"
     ]
    },
    {
     "name": "stdout",
     "output_type": "stream",
     "text": [
      "-----------------------------------------------\n",
      " Training time is: 271.7117772102356 seconds\n",
      "-----------------------------------------------\n",
      "[0.89445457 0.89010243 0.88034405]\n"
     ]
    },
    {
     "name": "stderr",
     "output_type": "stream",
     "text": [
      "C:\\Users\\Matthew\\Anaconda3\\lib\\site-packages\\sklearn\\neural_network\\multilayer_perceptron.py:566: ConvergenceWarning: Stochastic Optimizer: Maximum iterations (200) reached and the optimization hasn't converged yet.\n",
      "  % self.max_iter, ConvergenceWarning)\n"
     ]
    }
   ],
   "source": [
    "main()"
   ]
  },
  {
   "cell_type": "code",
   "execution_count": null,
   "metadata": {},
   "outputs": [],
   "source": []
  }
 ],
 "metadata": {
  "kernelspec": {
   "display_name": "Python 3",
   "language": "python",
   "name": "python3"
  },
  "language_info": {
   "codemirror_mode": {
    "name": "ipython",
    "version": 3
   },
   "file_extension": ".py",
   "mimetype": "text/x-python",
   "name": "python",
   "nbconvert_exporter": "python",
   "pygments_lexer": "ipython3",
   "version": "3.7.4"
  }
 },
 "nbformat": 4,
 "nbformat_minor": 2
}
