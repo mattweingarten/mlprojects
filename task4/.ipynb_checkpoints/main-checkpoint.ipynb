{
 "cells": [
  {
   "cell_type": "code",
   "execution_count": 2,
   "metadata": {},
   "outputs": [],
   "source": [
    "import numpy as np\n",
    "import tensorflow as tf\n",
    "from tensorflow import keras\n",
    "\n",
    "from tensorflow.keras.applications.vgg16 import VGG16\n",
    "from tensorflow.keras.preprocessing import image\n",
    "from tensorflow.keras.applications.vgg16 import preprocess_input\n",
    "from tensorflow.keras import layers\n",
    "\n",
    "import PIL"
   ]
  },
  {
   "cell_type": "markdown",
   "metadata": {},
   "source": [
    "## Setup image dict, pretrained vgg16 model "
   ]
  },
  {
   "cell_type": "code",
   "execution_count": 44,
   "metadata": {},
   "outputs": [],
   "source": [
    "def get_train_triplets():\n",
    "    return np.genfromtxt(\"./data/train_triplets.txt\", dtype=\"str\")\n",
    "\n",
    "\n",
    "def get_test_triplets():\n",
    "    return np.genfromtxt(\"./data/test_triplets.txt\", dtype=\"str\")\n",
    "\n",
    "def get_image_path(name):\n",
    "    return './data/food/' + name + '.jpg'\n",
    "\n",
    "\n",
    "# Here we use VGG16 pretrained deep CNN to extract features from Images\n",
    "# TODO: Increase accuracy by training the model on our dataset?\n",
    "def setup_pretrained_model():\n",
    "    #Decisions:\n",
    "        # - max or avg?\n",
    "    model = VGG16(weights='imagenet', include_top=False, pooling='avg')\n",
    "    for layer in model.layers:\n",
    "        layer.trainable = False\n",
    "    return model\n",
    "\n",
    "\n",
    "def feature_extraction(model,name):\n",
    "    img = image.load_img(get_image_path(name),target_size=(224,224))\n",
    "    x = image.img_to_array(img)\n",
    "    x = np.expand_dims(x, axis=0)\n",
    "    x = preprocess_input(x)\n",
    "    return model.predict(x)[0] ##[0] to change shape from (1,512) -> (512, )\n",
    "\n",
    "\n",
    "def append(arr1,arr2):\n",
    "    m = arr1.size\n",
    "    n = arr2.size\n",
    "    res = np.zeros(m + n)\n",
    "    res[0:m] = arr1\n",
    "    res[m:m + n] = arr2\n",
    "    return res\n",
    "\n",
    "def create_dict(model):\n",
    "    triplets1 = get_train_triplets()\n",
    "    triplets2 = get_test_triplets()\n",
    "    result = \n",
    "    strings1 = triplets1.flatten()\n",
    "    strings2 = triplets2.flatten()\n",
    "    print(triplets1)\n",
    "    strings = np.unique(append(strings1,strings2))\n",
    "    print(strings)\n",
    "#     for name in strings:\n",
    "#         DICT[name]  =  feature_extraction(model,name)\n",
    "\n",
    "\n",
    "def get_feature(name):\n",
    "    return DICT[name]\n",
    "\n",
    "\n",
    "\n",
    "def setup_data(model,min,max,train):\n",
    "    if(train):\n",
    "        triplets = get_train_triplets()[min:max]\n",
    "    else:\n",
    "        triplets = get_test_triplets()\n",
    "    m,n = triplets.shape\n",
    "    res = np.zeros((2 * m, 1024))\n",
    "    labels = np.zeros(2 * m)\n",
    "    for i in range(m):\n",
    "        anchor = get_feature(triplets[i][0])\n",
    "        pos = get_feature(triplets[i][1])\n",
    "        neg = get_feature(triplets[i][2])\n",
    "        res[2 * i ][0:512] = anchor\n",
    "        res[2 * i + 1][0:512] = pos\n",
    "\n",
    "        res[2 * i ][512:1024] = anchor\n",
    "        res[2 * i + 1][512:1024] = neg\n",
    "\n",
    "        labels[2 * i] = 1\n",
    "        labels[2 * i + 1] = 0\n",
    "    return res,labels"
   ]
  },
  {
   "cell_type": "markdown",
   "metadata": {},
   "source": [
    "## Fully connect model (approximating the distance function of similiarities between two images based on extracted features and human input"
   ]
  },
  {
   "cell_type": "code",
   "execution_count": 45,
   "metadata": {},
   "outputs": [],
   "source": [
    "def create_fully_connect_model():\n",
    "    inputs = keras.Input(shape=(1024,))\n",
    "    x = layers.Dense(256,activation=\"relu\")(inputs)\n",
    "    x = layers.Dense(256,activation=\"relu\")(inputs)\n",
    "    outputs = layers.Dense(1, activation=\"sigmoid\")(x)\n",
    "    model = keras.Model(inputs=inputs,outputs=outputs,name=\"fully_connected\")\n",
    "    return model\n",
    "\n",
    "def parse_results(results):\n",
    "    n = results.size /2\n",
    "    ret = np.zeros(n)\n",
    "    for i in range(n):\n",
    "        if(results[i * 2] > results[i * 2 + 1]):\n",
    "            ret[i] = 1\n",
    "    return ret"
   ]
  },
  {
   "cell_type": "code",
   "execution_count": 46,
   "metadata": {},
   "outputs": [
    {
     "name": "stdout",
     "output_type": "stream",
     "text": [
      "[['02461' '03450' '02678']\n",
      " ['02299' '02499' '04987']\n",
      " ['04663' '01056' '03029']\n",
      " ...\n",
      " ['03255' '04844' '04334']\n",
      " ['02136' '04619' '00161']\n",
      " ['02509' '02552' '03406']]\n",
      "[0.000e+00 1.000e+00 2.000e+00 ... 9.997e+03 9.998e+03 9.999e+03]\n"
     ]
    }
   ],
   "source": [
    "DICT = {}\n",
    "def dict():\n",
    "    pretrained_model = setup_pretrained_model()\n",
    "    create_dict(pretrained_model)\n",
    "dict()"
   ]
  },
  {
   "cell_type": "code",
   "execution_count": 40,
   "metadata": {},
   "outputs": [
    {
     "ename": "NameError",
     "evalue": "name 'fully_connected_mode' is not defined",
     "output_type": "error",
     "traceback": [
      "\u001b[1;31m---------------------------------------------------------------------------\u001b[0m",
      "\u001b[1;31mNameError\u001b[0m                                 Traceback (most recent call last)",
      "\u001b[1;32m<ipython-input-40-69ca7b05eaac>\u001b[0m in \u001b[0;36m<module>\u001b[1;34m\u001b[0m\n\u001b[0;32m      4\u001b[0m     \u001b[0mfully_connected_mode\u001b[0m\u001b[1;33m.\u001b[0m\u001b[0msumary\u001b[0m\u001b[1;33m(\u001b[0m\u001b[1;33m)\u001b[0m\u001b[1;33m\u001b[0m\u001b[1;33m\u001b[0m\u001b[0m\n\u001b[0;32m      5\u001b[0m \u001b[1;33m\u001b[0m\u001b[0m\n\u001b[1;32m----> 6\u001b[1;33m \u001b[0mmain\u001b[0m\u001b[1;33m(\u001b[0m\u001b[1;33m)\u001b[0m\u001b[1;33m\u001b[0m\u001b[1;33m\u001b[0m\u001b[0m\n\u001b[0m",
      "\u001b[1;32m<ipython-input-40-69ca7b05eaac>\u001b[0m in \u001b[0;36mmain\u001b[1;34m()\u001b[0m\n\u001b[0;32m      2\u001b[0m     \u001b[0mfully_connected_model\u001b[0m \u001b[1;33m=\u001b[0m \u001b[0mcreate_fully_connect_model\u001b[0m\u001b[1;33m(\u001b[0m\u001b[1;33m)\u001b[0m\u001b[1;33m\u001b[0m\u001b[1;33m\u001b[0m\u001b[0m\n\u001b[0;32m      3\u001b[0m     \u001b[0mfully_connected_model\u001b[0m\u001b[1;33m.\u001b[0m\u001b[0mcompile\u001b[0m\u001b[1;33m(\u001b[0m\u001b[0mloss\u001b[0m\u001b[1;33m=\u001b[0m\u001b[1;34m\"binary_crossentropy\"\u001b[0m\u001b[1;33m,\u001b[0m \u001b[0moptimizer\u001b[0m\u001b[1;33m=\u001b[0m\u001b[1;34m'adam'\u001b[0m\u001b[1;33m,\u001b[0m \u001b[0mmetrics\u001b[0m\u001b[1;33m=\u001b[0m\u001b[1;33m[\u001b[0m\u001b[1;34m'accuracy'\u001b[0m\u001b[1;33m]\u001b[0m\u001b[1;33m)\u001b[0m\u001b[1;33m\u001b[0m\u001b[1;33m\u001b[0m\u001b[0m\n\u001b[1;32m----> 4\u001b[1;33m     \u001b[0mfully_connected_mode\u001b[0m\u001b[1;33m.\u001b[0m\u001b[0msumary\u001b[0m\u001b[1;33m(\u001b[0m\u001b[1;33m)\u001b[0m\u001b[1;33m\u001b[0m\u001b[1;33m\u001b[0m\u001b[0m\n\u001b[0m\u001b[0;32m      5\u001b[0m \u001b[1;33m\u001b[0m\u001b[0m\n\u001b[0;32m      6\u001b[0m \u001b[0mmain\u001b[0m\u001b[1;33m(\u001b[0m\u001b[1;33m)\u001b[0m\u001b[1;33m\u001b[0m\u001b[1;33m\u001b[0m\u001b[0m\n",
      "\u001b[1;31mNameError\u001b[0m: name 'fully_connected_mode' is not defined"
     ]
    }
   ],
   "source": [
    "def main():\n",
    "    fully_connected_model = create_fully_connect_model()\n",
    "    fully_connected_model.compile(loss=\"binary_crossentropy\", optimizer='adam', metrics=['accuracy'])\n",
    "    fully_connected_mode.sumary()\n",
    "\n",
    "main()"
   ]
  },
  {
   "cell_type": "code",
   "execution_count": null,
   "metadata": {},
   "outputs": [],
   "source": []
  }
 ],
 "metadata": {
  "kernelspec": {
   "display_name": "Python 3",
   "language": "python",
   "name": "python3"
  },
  "language_info": {
   "codemirror_mode": {
    "name": "ipython",
    "version": 3
   },
   "file_extension": ".py",
   "mimetype": "text/x-python",
   "name": "python",
   "nbconvert_exporter": "python",
   "pygments_lexer": "ipython3",
   "version": "3.7.7"
  }
 },
 "nbformat": 4,
 "nbformat_minor": 4
}
